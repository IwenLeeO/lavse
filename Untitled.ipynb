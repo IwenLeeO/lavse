{
 "cells": [
  {
   "cell_type": "code",
   "execution_count": 1,
   "metadata": {},
   "outputs": [],
   "source": [
    "%load_ext autoreload\n",
    "%autoreload 2\n",
    "%matplotlib inline"
   ]
  },
  {
   "cell_type": "code",
   "execution_count": 2,
   "metadata": {},
   "outputs": [],
   "source": [
    "import sys\n",
    "from matplotlib import pyplot as plt"
   ]
  },
  {
   "cell_type": "code",
   "execution_count": 3,
   "metadata": {},
   "outputs": [],
   "source": [
    "import lavse\n",
    "import torch"
   ]
  },
  {
   "cell_type": "code",
   "execution_count": 48,
   "metadata": {},
   "outputs": [
    {
     "name": "stdout",
     "output_type": "stream",
     "text": [
      "torch.Size([1, 56, 1])\n",
      "torch.Size([1, 56, 24])\n",
      "tensor([[[1.],\n",
      "         [1.],\n",
      "         [1.],\n",
      "         [1.],\n",
      "         [1.],\n",
      "         [1.],\n",
      "         [1.],\n",
      "         [1.],\n",
      "         [1.],\n",
      "         [0.],\n",
      "         [0.],\n",
      "         [0.],\n",
      "         [0.],\n",
      "         [0.],\n",
      "         [0.],\n",
      "         [0.],\n",
      "         [0.],\n",
      "         [0.],\n",
      "         [0.],\n",
      "         [0.],\n",
      "         [0.],\n",
      "         [0.],\n",
      "         [0.],\n",
      "         [0.],\n",
      "         [0.],\n",
      "         [0.],\n",
      "         [0.],\n",
      "         [0.],\n",
      "         [1.],\n",
      "         [1.],\n",
      "         [1.],\n",
      "         [1.],\n",
      "         [1.],\n",
      "         [1.],\n",
      "         [1.],\n",
      "         [1.],\n",
      "         [1.],\n",
      "         [1.],\n",
      "         [1.],\n",
      "         [0.],\n",
      "         [0.],\n",
      "         [0.],\n",
      "         [1.],\n",
      "         [0.],\n",
      "         [0.],\n",
      "         [0.],\n",
      "         [0.],\n",
      "         [0.],\n",
      "         [0.],\n",
      "         [0.],\n",
      "         [0.],\n",
      "         [0.],\n",
      "         [0.],\n",
      "         [0.],\n",
      "         [0.],\n",
      "         [0.]]])\n"
     ]
    }
   ],
   "source": [
    "import torch\n",
    "import torch.nn as nn\n",
    "\n",
    "\n",
    "class PartialConcat(nn.Module):\n",
    "\n",
    "    def __init__(\n",
    "            self,\n",
    "            num_embeddings,\n",
    "            embed_dim=300,\n",
    "            liwe_char_dim=24,\n",
    "            liwe_neurons=[128, 256],\n",
    "            liwe_dropout=0.0,\n",
    "            liwe_wnorm=True,\n",
    "            max_chars = 26\n",
    "        ):\n",
    "        super(PartialConcat, self).__init__()\n",
    "        self.max_chars = max_chars\n",
    "        self.embed = nn.Embedding(num_embeddings, liwe_char_dim)\n",
    "\n",
    "        self.total_embed_size = liwe_char_dim * max_chars\n",
    "\n",
    "        layers = []\n",
    "        liwe_neurons = liwe_neurons + [embed_dim]\n",
    "        in_sizes = [liwe_char_dim * max_chars] + liwe_neurons\n",
    "\n",
    "        if not liwe_wnorm:\n",
    "            weight_norm = lambda x: x\n",
    "        else:\n",
    "            from torch.nn.utils import weight_norm\n",
    "\n",
    "        for n, i in zip(liwe_neurons, in_sizes):\n",
    "            layer = nn.Sequential(*[\n",
    "                weight_norm(\n",
    "                    nn.Conv1d(i, n, 1, )\n",
    "                ),\n",
    "                nn.Dropout(liwe_dropout),\n",
    "                nn.BatchNorm1d(n),\n",
    "                nn.ReLU(inplace=True),\n",
    "            ])\n",
    "            layers.append(layer)\n",
    "\n",
    "        self.layers = nn.Sequential(*layers)\n",
    "\n",
    "    def forward_embed(self, x):\n",
    "        B, W, C = x.shape\n",
    "        instance_lens = ((x != 0).sum(0).sum(1))\n",
    "        mask = (x != 0).float().view(B, W*C, 1)\n",
    "        print(mask.shape)\n",
    "        partial_words = x.view(self.B, -1) # (B, W*Ct)\n",
    "        char_embed = self.embed(partial_words) # (B, W*Ct, Cw)\n",
    "        char_embed = char_embed * mask\n",
    "        print(char_embed.shape)\n",
    "        print(mask)\n",
    "        # char_embed = l2norm(char_embed, 2)\n",
    "        char_embed = char_embed.view(self.B, self.W, -1)\n",
    "#         char_embed = torch.zeros_like(char_embed)\n",
    "\n",
    "        char_embed = char_embed.permute(0, 2, 1)\n",
    "        word_embed = self.layers(char_embed)\n",
    "        return word_embed\n",
    "\n",
    "    def forward(self, x):\n",
    "        '''\n",
    "            x: (batch, nb_words, nb_characters [tokens])\n",
    "        '''\n",
    "        self.B, self.W, self.Ct = x.size()\n",
    "        return self.forward_embed(x)\n",
    "\n",
    "model = PartialConcat(num_embeddings=99, embed_dim=300, max_chars=14)\n",
    "p = model(data)"
   ]
  },
  {
   "cell_type": "code",
   "execution_count": 42,
   "metadata": {},
   "outputs": [],
   "source": [
    "data = torch.as_tensor([\n",
    "    [1, 1, 2, 3, 5, 6, 7, 9, 10, 0, 0, 0, 0, 0, ],\n",
    "    [0, 0, 0, 0, 0, 0, 0, 0, 0, 0, 0, 0, 0, 0],\n",
    "    [1, 1, 2, 5, 9, 19, 50, 19, 21, 22, 92, 0, 0, 0],\n",
    "    [1, 0, 0, 0, 0, 0, 0, 0, 0, 0, 0, 0, 0, 0, ],\n",
    "]).unsqueeze(0)"
   ]
  },
  {
   "cell_type": "code",
   "execution_count": 43,
   "metadata": {},
   "outputs": [
    {
     "data": {
      "text/plain": [
       "torch.Size([1, 4, 14])"
      ]
     },
     "execution_count": 43,
     "metadata": {},
     "output_type": "execute_result"
    }
   ],
   "source": [
    "data.shape"
   ]
  },
  {
   "cell_type": "code",
   "execution_count": 44,
   "metadata": {},
   "outputs": [
    {
     "data": {
      "text/plain": [
       "torch.Size([1, 300, 4])"
      ]
     },
     "execution_count": 44,
     "metadata": {},
     "output_type": "execute_result"
    }
   ],
   "source": [
    "p.shape"
   ]
  },
  {
   "cell_type": "code",
   "execution_count": 45,
   "metadata": {
    "scrolled": true
   },
   "outputs": [
    {
     "data": {
      "image/png": "[encoded data removed]",
      "text/plain": [
       "<Figure size 432x288 with 1 Axes>"
      ]
     },
     "metadata": {
      "needs_background": "light"
     },
     "output_type": "display_data"
    }
   ],
   "source": [
    "a = plt.hist(p[0,:,0].data.numpy())"
   ]
  },
  {
   "cell_type": "code",
   "execution_count": 46,
   "metadata": {},
   "outputs": [
    {
     "data": {
      "image/png": "[encoded data removed]",
      "text/plain": [
       "<Figure size 432x288 with 1 Axes>"
      ]
     },
     "metadata": {
      "needs_background": "light"
     },
     "output_type": "display_data"
    }
   ],
   "source": [
    "a = plt.hist(p[0,:,1].data.numpy())"
   ]
  },
  {
   "cell_type": "code",
   "execution_count": 47,
   "metadata": {},
   "outputs": [
    {
     "data": {
      "image/png": "[encoded data removed]",
      "text/plain": [
       "<Figure size 432x288 with 1 Axes>"
      ]
     },
     "metadata": {
      "needs_background": "light"
     },
     "output_type": "display_data"
    }
   ],
   "source": [
    "a = plt.hist(p[0,:,2].data.numpy())"
   ]
  },
  {
   "cell_type": "code",
   "execution_count": 25,
   "metadata": {},
   "outputs": [
    {
     "data": {
      "image/png": "[encoded data removed]",
      "text/plain": [
       "<Figure size 432x288 with 1 Axes>"
      ]
     },
     "metadata": {
      "needs_background": "light"
     },
     "output_type": "display_data"
    }
   ],
   "source": [
    "a = plt.hist(p[0,:,3].data.numpy())"
   ]
  }
 ],
 "metadata": {
  "kernelspec": {
   "display_name": "Python 3",
   "language": "python",
   "name": "python3"
  },
  "language_info": {
   "codemirror_mode": {
    "name": "ipython",
    "version": 3
   },
   "file_extension": ".py",
   "mimetype": "text/x-python",
   "name": "python",
   "nbconvert_exporter": "python",
   "pygments_lexer": "ipython3",
   "version": "3.7.3"
  }
 },
 "nbformat": 4,
 "nbformat_minor": 2
}
