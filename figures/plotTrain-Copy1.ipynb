{
 "cells": [
  {
   "cell_type": "code",
   "execution_count": 2,
   "metadata": {},
   "outputs": [],
   "source": [
    "%matplotlib inline\n",
    "from matplotlib import pyplot as plt\n",
    "import sys \n",
    "sys.path.append('../lavse/')\n",
    "import json \n",
    "import numpy as np"
   ]
  },
  {
   "cell_type": "code",
   "execution_count": 3,
   "metadata": {},
   "outputs": [],
   "source": [
    "def load_json(path):\n",
    "    with open(path, 'rb') as ftp:\n",
    "        return json.load(ftp)"
   ]
  },
  {
   "cell_type": "code",
   "execution_count": 4,
   "metadata": {},
   "outputs": [],
   "source": [
    "def get_xy(data):\n",
    "    x, y = [], []\n",
    "    for line in data:\n",
    "        x.append(line[1])\n",
    "        y.append(line[2])\n",
    "    x = np.array(x)\n",
    "    y = np.array(y)\n",
    "    return x, y"
   ]
  },
  {
   "cell_type": "code",
   "execution_count": 8,
   "metadata": {},
   "outputs": [],
   "source": [
    "settings = {\n",
    "    'scan': {\n",
    "        'color': '#4184f3',\n",
    "        'label': 'SCAN-i2t',\n",
    "        'marker': '+',\n",
    "        't2i': 'run-baseline_scan_f30k_precomp-tag-f30k_precomp.dev.en_t2i_r1.json',\n",
    "        'i2t': 'run-baseline_scan_f30k_precomp-tag-f30k_precomp.dev.en_i2t_r1.json',        \n",
    "    },\n",
    "    'adapt-i2t': {\n",
    "        'color': 'k',\n",
    "        'label': 'ADAPT-i2t',\n",
    "        'marker': 'x',\n",
    "        't2i': 'run-adaptive_i2t_bn_linear_f30k_precomp.en-tag-f30k_precomp.dev.en_t2i_r1.json',\n",
    "        'i2t': 'run-adaptive_i2t_bn_linear_f30k_precomp.en-tag-f30k_precomp.dev.en_i2t_r1.json',\n",
    "    },\n",
    "}"
   ]
  },
  {
   "cell_type": "code",
   "execution_count": 9,
   "metadata": {},
   "outputs": [],
   "source": [
    "plot_list = [\n",
    "    'scan', \n",
    "    'adapt-i2t'\n",
    "]"
   ]
  },
  {
   "cell_type": "code",
   "execution_count": 1,
   "metadata": {},
   "outputs": [
    {
     "ename": "NameError",
     "evalue": "name 'plot_list' is not defined",
     "output_type": "error",
     "traceback": [
      "\u001b[0;31m---------------------------------------------------------------------------\u001b[0m",
      "\u001b[0;31mNameError\u001b[0m                                 Traceback (most recent call last)",
      "\u001b[0;32m<ipython-input-1-94d6233728e6>\u001b[0m in \u001b[0;36m<module>\u001b[0;34m\u001b[0m\n\u001b[1;32m      2\u001b[0m \u001b[0mtitle\u001b[0m \u001b[0;34m=\u001b[0m \u001b[0;34m'a) Image Retrieval'\u001b[0m\u001b[0;34m\u001b[0m\u001b[0;34m\u001b[0m\u001b[0m\n\u001b[1;32m      3\u001b[0m \u001b[0;34m\u001b[0m\u001b[0m\n\u001b[0;32m----> 4\u001b[0;31m \u001b[0;32mfor\u001b[0m \u001b[0mmethod\u001b[0m \u001b[0;32min\u001b[0m \u001b[0mplot_list\u001b[0m\u001b[0;34m:\u001b[0m\u001b[0;34m\u001b[0m\u001b[0;34m\u001b[0m\u001b[0m\n\u001b[0m\u001b[1;32m      5\u001b[0m     \u001b[0mconfig\u001b[0m \u001b[0;34m=\u001b[0m \u001b[0msettings\u001b[0m\u001b[0;34m[\u001b[0m\u001b[0mmethod\u001b[0m\u001b[0;34m]\u001b[0m\u001b[0;34m\u001b[0m\u001b[0;34m\u001b[0m\u001b[0m\n\u001b[1;32m      6\u001b[0m     \u001b[0mfile\u001b[0m \u001b[0;34m=\u001b[0m \u001b[0mload_json\u001b[0m\u001b[0;34m(\u001b[0m\u001b[0mconfig\u001b[0m\u001b[0;34m[\u001b[0m\u001b[0mmetric\u001b[0m\u001b[0;34m]\u001b[0m\u001b[0;34m)\u001b[0m\u001b[0;34m\u001b[0m\u001b[0;34m\u001b[0m\u001b[0m\n",
      "\u001b[0;31mNameError\u001b[0m: name 'plot_list' is not defined"
     ]
    }
   ],
   "source": [
    "metric = 't2i'\n",
    "title = 'a) Image Retrieval'\n",
    "\n",
    "for method in plot_list:    \n",
    "    config = settings[method]\n",
    "    file = load_json(config[metric])\n",
    "    x, y = get_xy(file)\n",
    "    _ = plt.plot(\n",
    "        x/1000, y, \n",
    "        color=config['color'], \n",
    "        marker=config['marker'],\n",
    "        label=config['label'],\n",
    "    )\n",
    "plt.legend(fontsize=14)\n",
    "plt.xlabel('Iterations ($\\\\times1000$)', fontsize=14)\n",
    "plt.ylabel('R@1', fontsize=14)\n",
    "plt.title(title, fontsize=15)\n",
    "plt.savefig(f'{title}.pdf', bbox_to_inches='tight')"
   ]
  },
  {
   "cell_type": "code",
   "execution_count": 12,
   "metadata": {},
   "outputs": [
    {
     "data": {
      "image/png": "[encoded data removed]",
      "text/plain": [
       "<Figure size 432x288 with 1 Axes>"
      ]
     },
     "metadata": {
      "needs_background": "light"
     },
     "output_type": "display_data"
    }
   ],
   "source": [
    "metric = 'i2t'\n",
    "title = 'b) Image Annotation'\n",
    "\n",
    "for method in plot_list:    \n",
    "    config = settings[method]\n",
    "    file = load_json(config[metric])\n",
    "    x, y = get_xy(file)\n",
    "    _ = plt.plot(\n",
    "        x, y, \n",
    "        color=config['color'], \n",
    "        marker=config['marker'],\n",
    "        label=config['label'],\n",
    "    )\n",
    "plt.legend(fontsize=13)\n",
    "plt.xlabel('Iterations ($\\\\times1000$)', fontsize=13)\n",
    "plt.ylabel('R@1', fontsize=13)\n",
    "plt.title(title, fontsize=14)\n",
    "plt.savefig(f'{title}.pdf', bbox_to_inches='tight')"
   ]
  }
 ],
 "metadata": {
  "kernelspec": {
   "display_name": "Python 3 (fashion)",
   "language": "python",
   "name": "fashion"
  },
  "language_info": {
   "codemirror_mode": {
    "name": "ipython",
    "version": 3
   },
   "file_extension": ".py",
   "mimetype": "text/x-python",
   "name": "python",
   "nbconvert_exporter": "python",
   "pygments_lexer": "ipython3",
   "version": "3.6.8"
  }
 },
 "nbformat": 4,
 "nbformat_minor": 2
}
